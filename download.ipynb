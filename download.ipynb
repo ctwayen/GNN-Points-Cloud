{
 "cells": [
  {
   "cell_type": "code",
   "execution_count": 1,
   "metadata": {},
   "outputs": [],
   "source": [
    "import os\n",
    "import os.path as osp\n",
    "import shutil\n",
    "import glob\n",
    "\n",
    "import torch\n",
    "from torch_geometric.data import InMemoryDataset, download_url, extract_zip\n",
    "from torch_geometric.io import read_off\n",
    "\n",
    "def download(root='data/modelnet/', name='40'):\n",
    "    urls = {\n",
    "        '10':\n",
    "        'http://vision.princeton.edu/projects/2014/3DShapeNets/ModelNet10.zip',\n",
    "        '40': 'http://modelnet.cs.princeton.edu/ModelNet40.zip'\n",
    "    }\n",
    "    os.makedirs(root, exist_ok=True)\n",
    "    path = download_url(urls[name], root)\n",
    "    extract_zip(path, root)\n",
    "    os.unlink(path)\n",
    "    folder = osp.join(root, 'ModelNet{}'.format(self.name))\n",
    "    shutil.rmtree(self.raw_dir)\n",
    "    os.rename(folder, self.raw_dir)\n",
    "\n",
    "    # Delete osx metadata generated during compression of ModelNet10\n",
    "    metadata_folder = osp.join(root, '__MACOSX')\n",
    "    if osp.exists(metadata_folder):\n",
    "        shutil.rmtree(metadata_folder)"
   ]
  },
  {
   "cell_type": "code",
   "execution_count": null,
   "metadata": {},
   "outputs": [
    {
     "name": "stdout",
     "output_type": "stream",
     "text": [
      "Downloading http://modelnet.cs.princeton.edu/ModelNet40.zip\n",
      "Extracting data/modelnet/ModelNet40.zip\n"
     ]
    }
   ],
   "source": [
    "#download()"
   ]
  },
  {
   "cell_type": "code",
   "execution_count": 28,
   "metadata": {},
   "outputs": [],
   "source": [
    "import numpy as np\n",
    "import h5py\n",
    "from tqdm.notebook import tqdm\n",
    "import os\n",
    "def extract(path):\n",
    "    f = open(path, 'r')\n",
    "    lines = f.readlines()\n",
    "    if lines[0] == 'OFF\\n':\n",
    "        num = int(float(lines[1].split(\" \")[0]))\n",
    "        pts = []\n",
    "        for i in range(2, 2+num):\n",
    "            temp = lines[i][:-1].split(' ')\n",
    "            pts.append([float(temp[0]), float(temp[1]), float(temp[2])])\n",
    "    else:\n",
    "        num = int(float(lines[0].split(\" \")[0][3:]))\n",
    "        pts = []\n",
    "        for i in range(1, 1+num):\n",
    "            temp = lines[i][:-1].split(' ')\n",
    "            pts.append([float(temp[0]), float(temp[1]), float(temp[2])])\n",
    "    return pts\n",
    "\n",
    "def create_pt(base = 'data/modelnet/ModelNet40/', output_base = 'data/modelnet/modelnet_points/'):\n",
    "    paths = {}\n",
    "    for obj in os.listdir(base):\n",
    "        if obj != '.DS_Store' and obj != 'README.txt':\n",
    "            obj_base_train = base + obj + '/train/'\n",
    "            obj_base_test = base + obj + '/test/'\n",
    "            paths[obj] = []\n",
    "            for sample in os.listdir(obj_base_train):\n",
    "                paths[obj].append(obj_base_train + sample)\n",
    "            for sample in os.listdir(obj_base_test):\n",
    "                paths[obj].append(obj_base_test + sample)\n",
    "                \n",
    "    os.makedirs(output_base, exist_ok=True)\n",
    "\n",
    "    for obj in tqdm(paths.keys()):\n",
    "        h5f = h5py.File(output_base + str(obj)+'.h5', 'w')\n",
    "        for path, i in zip(paths[obj], range(len(paths[obj]))):\n",
    "            if path[-3:] == 'off':\n",
    "                temp = np.array(extract(path))\n",
    "                h5f.create_dataset('object_' + str(i), data=temp)\n",
    "        h5f.close()"
   ]
  },
  {
   "cell_type": "code",
   "execution_count": 30,
   "metadata": {},
   "outputs": [
    {
     "data": {
      "application/vnd.jupyter.widget-view+json": {
       "model_id": "565f75acb3e248079afe86419e872d36",
       "version_major": 2,
       "version_minor": 0
      },
      "text/plain": [
       "  0%|          | 0/40 [00:00<?, ?it/s]"
      ]
     },
     "metadata": {},
     "output_type": "display_data"
    }
   ],
   "source": [
    "create_pt()"
   ]
  },
  {
   "cell_type": "code",
   "execution_count": 1,
   "metadata": {
    "scrolled": true
   },
   "outputs": [],
   "source": [
    "from src import graph_construct\n",
    "import os\n",
    "import numpy as np\n",
    "import h5py\n",
    "\n",
    "def construct_graph_knn(pts_num = 1000, base = 'data/modelnet/modelnet_points/', k=15):\n",
    "    output_base = 'data/modelnet/modelnet_graph_k{x}'.format(x=k)\n",
    "    os.makedirs(output_base, exist_ok=True)\n",
    "    for obj in os.listdir(base):\n",
    "        cat = obj[:-3]\n",
    "        print(obj)\n",
    "        if obj[-2:] == 'h5':\n",
    "            os.makedirs(output_base + '/' + cat, exist_ok=True)\n",
    "            f = h5py.File(base + obj, 'r')\n",
    "            for key in f.keys():\n",
    "                if f[key][:].shape[0] >= pts_num:\n",
    "                    pts = graph_construct.pts_norm(graph_construct.pts_sample(f[key][:], pts_num))\n",
    "                    if np.isnan(pts).any():\n",
    "                        continue\n",
    "                    temp = graph_construct.graph_construct_kneigh(pts, k=k)\n",
    "                    filename = output_base + '/' + cat + '/' + key + '.h5'\n",
    "                    out = h5py.File(filename, 'w')\n",
    "                    out.create_dataset('edges', data=temp[0])\n",
    "                    out.create_dataset('edge_weight', data=temp[1])\n",
    "                    out.create_dataset('nodes', data=pts)\n",
    "                    out.close()\n",
    "    print('After processing, numbers of samples for each category are:')\n",
    "    for obj in os.listdir(output_base):\n",
    "        print(obj, len(os.listdir(output_base + '/' + obj)))"
   ]
  },
  {
   "cell_type": "code",
   "execution_count": 11,
   "metadata": {},
   "outputs": [],
   "source": [
    "def construct_graph_radius(pts_num = 1000, base = 'data/modelnet/modelnet_points/', radius=0.1):\n",
    "    output_base = 'data/modelnet/modelnet_graph_r{x}/'.format(x=radius)\n",
    "    os.makedirs(output_base, exist_ok=True)\n",
    "    for obj in os.listdir(base):\n",
    "        cat = obj[:-3]\n",
    "        print(obj)\n",
    "        if obj[-2:] == 'h5':\n",
    "            os.makedirs(output_base + '/' + cat, exist_ok=True)\n",
    "            f = h5py.File(base + obj, 'r')\n",
    "            for key in f.keys():\n",
    "                if f[key][:].shape[0] >= pts_num:\n",
    "                    pts = graph_construct.pts_norm(graph_construct.pts_sample(f[key][:], pts_num))\n",
    "                    if np.isnan(pts).any():\n",
    "                        continue\n",
    "                    temp = graph_construct.graph_construct_radius(pts, r=radius)\n",
    "                    filename = output_base + '/' + cat + '/' + key + '.h5'\n",
    "                    out = h5py.File(filename, 'w')\n",
    "                    out.create_dataset('edges', data=temp[0])\n",
    "                    out.create_dataset('edge_weight', data=temp[1])\n",
    "                    out.create_dataset('nodes', data=pts)\n",
    "                    out.close()\n",
    "    print('After processing, numbers of samples for each category are:')\n",
    "    for obj in os.listdir(output_base):\n",
    "        print(obj, len(os.listdir(output_base + '/' + obj)))"
   ]
  },
  {
   "cell_type": "code",
   "execution_count": null,
   "metadata": {
    "scrolled": true
   },
   "outputs": [
    {
     "name": "stdout",
     "output_type": "stream",
     "text": [
      "xbox.h5\n",
      "chair.h5\n",
      "sofa.h5\n",
      "bench.h5\n",
      "door.h5\n",
      "airplane.h5\n",
      "bed.h5\n",
      "dresser.h5\n"
     ]
    }
   ],
   "source": [
    "construct_graph_radius(radius=0.1)"
   ]
  },
  {
   "cell_type": "code",
   "execution_count": null,
   "metadata": {
    "scrolled": true
   },
   "outputs": [],
   "source": [
    "construct_graph_radius(radius=0.05)"
   ]
  },
  {
   "cell_type": "code",
   "execution_count": null,
   "metadata": {},
   "outputs": [],
   "source": [
    "construct_graph_radius(radius=0.15)"
   ]
  },
  {
   "cell_type": "code",
   "execution_count": null,
   "metadata": {},
   "outputs": [],
   "source": [
    "construct_graph_radius(radius=0.2)"
   ]
  },
  {
   "cell_type": "code",
   "execution_count": null,
   "metadata": {},
   "outputs": [],
   "source": [
    "construct_graph_knn(k=20)"
   ]
  },
  {
   "cell_type": "code",
   "execution_count": null,
   "metadata": {},
   "outputs": [],
   "source": [
    "construct_graph_knn(k=25)"
   ]
  },
  {
   "cell_type": "code",
   "execution_count": null,
   "metadata": {},
   "outputs": [],
   "source": []
  }
 ],
 "metadata": {
  "kernelspec": {
   "display_name": "Python 3",
   "language": "python",
   "name": "python3"
  },
  "language_info": {
   "codemirror_mode": {
    "name": "ipython",
    "version": 3
   },
   "file_extension": ".py",
   "mimetype": "text/x-python",
   "name": "python",
   "nbconvert_exporter": "python",
   "pygments_lexer": "ipython3",
   "version": "3.8.6"
  }
 },
 "nbformat": 4,
 "nbformat_minor": 4
}
