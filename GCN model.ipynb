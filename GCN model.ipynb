{
 "cells": [
  {
   "cell_type": "code",
   "execution_count": 19,
   "id": "divided-memory",
   "metadata": {},
   "outputs": [],
   "source": [
    "class GCN_PointNet(nn.Module):\n",
    "    def __init__(self):\n",
    "        super(GCN_PointNet, self).__init__()\n",
    "        self.input = nn.Sequential(\n",
    "            nn.Conv1d(3, 64, 1),\n",
    "            nn.BatchNorm1d(64),\n",
    "            nn.ReLU()\n",
    "        )\n",
    "        self.mlp_first = nn.Sequential(\n",
    "            nn.Conv1d(64, 64, 1),\n",
    "            nn.BatchNorm1d(64),\n",
    "            nn.ReLU()\n",
    "        )\n",
    "        self.mlp_second = nn.Sequential(\n",
    "            nn.Conv1d(64, 128, 1),\n",
    "            nn.BatchNorm1d(128),\n",
    "            nn.ReLU(),\n",
    "            nn.Conv1d(128, 200, 1),\n",
    "            nn.BatchNorm1d(200),\n",
    "            nn.ReLU()\n",
    "        )\n",
    "        self.mlp_third = nn.Sequential(\n",
    "            nn.Conv1d(200, 128, 1),\n",
    "            nn.ReLU(),\n",
    "            nn.Conv1d(128, 2, 1),\n",
    "            nn.ReLU()\n",
    "        )\n",
    "        self.pool1 = SAGPooling(in_channels=64, ratio=0.5)\n",
    "        self.pool2 = SAGPooling(in_channels=200, ratio=0.2)\n",
    "        \n",
    "        \n",
    "    def forward(self, x, edge_index, edge_attr):\n",
    "        x = torch.transpose(x, 1, 2)\n",
    "        #print(x.shape)\n",
    "        edge_index = edge_index.view(2, -1)\n",
    "        edge_attr = edge_attr.view(-1)\n",
    "        x = self.input(x)\n",
    "        x = self.mlp_first(x)\n",
    "        \n",
    "        #print(x.shape)\n",
    "        x = torch.transpose(x, 1, 2)\n",
    "        x = x.view(1000, 64)\n",
    "        temp = self.pool1(x, edge_index, edge_attr)\n",
    "        x, edge_index, edge_attr = temp[0], temp[1], temp[2]\n",
    "        x = x.view(1, 500, 64)\n",
    "        x = torch.transpose(x, 1, 2)\n",
    "        \n",
    "        #print(x.shape)\n",
    "        x = self.mlp_second(x)\n",
    "        \n",
    "        #print(x.shape)\n",
    "        x = torch.transpose(x, 1, 2)\n",
    "        x = x.view(500, 200)\n",
    "        temp = self.pool2(x, edge_index, edge_attr)\n",
    "        x, edge_index, edge_attr = temp[0], temp[1], temp[2]\n",
    "        x = x.view(1, 100, 200)\n",
    "        x = torch.transpose(x, 1, 2)\n",
    "        \n",
    "        #print(x.shape)\n",
    "        x = F.max_pool1d(x, 100)\n",
    "        #print(x.shape)\n",
    "        x = self.mlp_third(x)\n",
    "        #print(x.shape)\n",
    "        x = x.squeeze(2)\n",
    "        #print(x.shape)\n",
    "        return F.log_softmax(x, dim=1)"
   ]
  },
  {
   "cell_type": "code",
   "execution_count": null,
   "id": "worth-spyware",
   "metadata": {},
   "outputs": [],
   "source": []
  },
  {
   "cell_type": "code",
   "execution_count": 1,
   "id": "selected-fusion",
   "metadata": {},
   "outputs": [
    {
     "ename": "ModuleNotFoundError",
     "evalue": "No module named 'torch_geometric'",
     "output_type": "error",
     "traceback": [
      "\u001b[0;31m---------------------------------------------------------------------------\u001b[0m",
      "\u001b[0;31mModuleNotFoundError\u001b[0m                       Traceback (most recent call last)",
      "\u001b[0;32m<ipython-input-1-945219a58e37>\u001b[0m in \u001b[0;36m<module>\u001b[0;34m\u001b[0m\n\u001b[1;32m      1\u001b[0m \u001b[0;32mimport\u001b[0m \u001b[0mtorch\u001b[0m\u001b[0;34m\u001b[0m\u001b[0;34m\u001b[0m\u001b[0m\n\u001b[1;32m      2\u001b[0m \u001b[0;32mimport\u001b[0m \u001b[0mos\u001b[0m\u001b[0;34m\u001b[0m\u001b[0;34m\u001b[0m\u001b[0m\n\u001b[0;32m----> 3\u001b[0;31m \u001b[0;32mfrom\u001b[0m \u001b[0msrc\u001b[0m \u001b[0;32mimport\u001b[0m \u001b[0mgraph_trainer\u001b[0m\u001b[0;34m\u001b[0m\u001b[0;34m\u001b[0m\u001b[0m\n\u001b[0m\u001b[1;32m      4\u001b[0m \u001b[0;32mfrom\u001b[0m \u001b[0msrc\u001b[0m \u001b[0;32mimport\u001b[0m \u001b[0mgraph_dataset\u001b[0m\u001b[0;34m\u001b[0m\u001b[0;34m\u001b[0m\u001b[0m\n\u001b[1;32m      5\u001b[0m \u001b[0;32mfrom\u001b[0m \u001b[0msrc\u001b[0m \u001b[0;32mimport\u001b[0m \u001b[0mgraph_model\u001b[0m\u001b[0;34m\u001b[0m\u001b[0;34m\u001b[0m\u001b[0m\n",
      "\u001b[0;32m~/GNN-Points-Cloud/src/graph_trainer.py\u001b[0m in \u001b[0;36m<module>\u001b[0;34m\u001b[0m\n\u001b[1;32m      2\u001b[0m \u001b[0;32mimport\u001b[0m \u001b[0mtorch\u001b[0m\u001b[0;34m.\u001b[0m\u001b[0mnn\u001b[0m \u001b[0;32mas\u001b[0m \u001b[0mnn\u001b[0m\u001b[0;34m\u001b[0m\u001b[0;34m\u001b[0m\u001b[0m\n\u001b[1;32m      3\u001b[0m \u001b[0;32mimport\u001b[0m \u001b[0mtorch\u001b[0m\u001b[0;34m.\u001b[0m\u001b[0mnn\u001b[0m\u001b[0;34m.\u001b[0m\u001b[0mfunctional\u001b[0m \u001b[0;32mas\u001b[0m \u001b[0mF\u001b[0m\u001b[0;34m\u001b[0m\u001b[0;34m\u001b[0m\u001b[0m\n\u001b[0;32m----> 4\u001b[0;31m \u001b[0;32mfrom\u001b[0m \u001b[0mtorch_geometric\u001b[0m\u001b[0;34m.\u001b[0m\u001b[0mdata\u001b[0m \u001b[0;32mimport\u001b[0m \u001b[0mData\u001b[0m\u001b[0;34m\u001b[0m\u001b[0;34m\u001b[0m\u001b[0m\n\u001b[0m\u001b[1;32m      5\u001b[0m \u001b[0;32mimport\u001b[0m \u001b[0mtorch\u001b[0m\u001b[0;34m.\u001b[0m\u001b[0mutils\u001b[0m\u001b[0;34m.\u001b[0m\u001b[0mdata\u001b[0m \u001b[0;32mas\u001b[0m \u001b[0mdata\u001b[0m\u001b[0;34m\u001b[0m\u001b[0;34m\u001b[0m\u001b[0m\n\u001b[1;32m      6\u001b[0m \u001b[0;32mimport\u001b[0m \u001b[0mnumpy\u001b[0m \u001b[0;32mas\u001b[0m \u001b[0mnp\u001b[0m\u001b[0;34m\u001b[0m\u001b[0;34m\u001b[0m\u001b[0m\n",
      "\u001b[0;31mModuleNotFoundError\u001b[0m: No module named 'torch_geometric'"
     ]
    }
   ],
   "source": [
    "import torch\n",
    "import os\n",
    "from src import graph_trainer\n",
    "from src import graph_dataset\n",
    "from src import graph_model\n",
    "import json\n",
    "import pandas as pd\n",
    "import os\n",
    "class run():\n",
    "    def __init__(self, args):\n",
    "        paths = []\n",
    "        labels = []\n",
    "        base = args['base']\n",
    "        for obj in os.listdir(base):\n",
    "            temp = base + obj\n",
    "            if args['data'] == '10':\n",
    "                if obj in ['sofa', 'airplane', 'vase', 'chair', 'toilet', 'bookshelf', 'bed', 'monitor', 'piano', 'bottle']:\n",
    "                    for file in os.listdir(temp):\n",
    "                        paths.append(temp+'/' + file)\n",
    "                        labels.append(obj)\n",
    "            else:\n",
    "                for file in os.listdir(temp):\n",
    "                        paths.append(temp+'/' + file)\n",
    "                        labels.append(obj)\n",
    "        dataset = graph_dataset.GCNdata(paths, labels)\n",
    "        total = len(dataset)\n",
    "        train_dataset, test_dataset = torch.utils.data.random_split(dataset, [total - int(total * args['val_size']),int(total * args['val_size'])])\n",
    "        print(total, len(train_dataset), len(test_dataset))\n",
    "        if args['data'] == '10':\n",
    "            class_num = 10\n",
    "        else:\n",
    "            class_num = 40\n",
    "        if args['model'] == 'GCN':\n",
    "            model = graph_model.GCN(pool=args['pool'], ratio=args['ratio'], class_num=class_num)\n",
    "            opts = {\n",
    "                    'lr': args['lr'],\n",
    "                    'epochs': args['epoch'],\n",
    "                    'batch_size': args['bs']\n",
    "            }\n",
    "        self.Train = graph_trainer.trainer(model = model,\n",
    "                      train_set = train_dataset,\n",
    "                      test_set = test_dataset,opts = opts)\n",
    "    def process(self):\n",
    "        self.Train.train()\n",
    "        return self.Train.get_stats()"
   ]
  },
  {
   "cell_type": "code",
   "execution_count": 1,
   "id": "exclusive-formula",
   "metadata": {},
   "outputs": [],
   "source": [
    "import torch\n",
    "import os\n",
    "from src import graph_trainer\n",
    "from src import graph_dataset\n",
    "from src import graph_model\n",
    "import json\n",
    "import pandas as pd\n",
    "import os\n",
    "class run():\n",
    "    def __init__(self, args):\n",
    "        paths = []\n",
    "        labels = []\n",
    "        base = args['base']\n",
    "        for obj in os.listdir(base):\n",
    "            temp = base + obj\n",
    "            if args['data'] == '10':\n",
    "                if obj in ['sofa', 'airplane', 'vase', 'chair', 'toilet', 'bookshelf', 'bed', 'monitor', 'piano', 'bottle']:\n",
    "                    for file in os.listdir(temp):\n",
    "                        paths.append(temp+'/' + file)\n",
    "                        labels.append(obj)\n",
    "            else:\n",
    "                for file in os.listdir(temp):\n",
    "                        paths.append(temp+'/' + file)\n",
    "                        labels.append(obj)\n",
    "        dataset = graph_dataset.GCNdata(paths, labels)\n",
    "        total = len(dataset)\n",
    "        train_dataset, test_dataset = torch.utils.data.random_split(dataset, [total - int(total * args['val_size']),int(total * args['val_size'])])\n",
    "        print(total, len(train_dataset), len(test_dataset))\n",
    "        if args['data'] == '10':\n",
    "            class_num = 10\n",
    "        else:\n",
    "            class_num = 40\n",
    "        if args['model'] == 'GCN':\n",
    "            model = graph_model.GCN(pool=args['pool'], ratio=args['ratio'], class_num=class_num)\n",
    "            opts = {\n",
    "                    'lr': args['lr'],\n",
    "                    'epochs': args['epoch'],\n",
    "                    'batch_size': args['bs']\n",
    "            }\n",
    "        self.Train = graph_trainer.trainer(model = model,\n",
    "                      train_set = train_dataset,\n",
    "                      test_set = test_dataset,opts = opts)\n",
    "    def process(self):\n",
    "        self.Train.train()\n",
    "        return self.Train.get_stats()\n"
   ]
  },
  {
   "cell_type": "code",
   "execution_count": 3,
   "id": "incident-aquatic",
   "metadata": {},
   "outputs": [
    {
     "name": "stdout",
     "output_type": "stream",
     "text": [
      "4862 3890 972\n",
      "GCN(\n",
      "  (conv1): GCNConv(3, 16)\n",
      "  (conv2): GCNConv(16, 32)\n",
      "  (conv3): GCNConv(32, 64)\n",
      "  (pool1): SAGPooling(GraphConv, 32, ratio=0.4, multiplier=1)\n",
      "  (pool2): SAGPooling(GraphConv, 64, ratio=0.4, multiplier=1)\n",
      "  (conv4): GCNConv(64, 32)\n",
      "  (conv5): GCNConv(32, 32)\n",
      "  (conv6): GCNConv(32, 10)\n",
      ")\n",
      "{'lr': 0.001, 'epochs': 2, 'batch_size': 32}\n"
     ]
    }
   ],
   "source": [
    "temp = run({\"data\": \"10\", \"base\": \"data/modelnet/modelnet_graph_k15/\", \"model\": \"GCN\", \"pool\": \"SAG\", \"ratio\": 0.4, \"val_size\": 0.2, \"lr\": 0.001, \"epoch\": 2, \"bs\": 32})"
   ]
  },
  {
   "cell_type": "code",
   "execution_count": 5,
   "id": "anticipated-policy",
   "metadata": {},
   "outputs": [
    {
     "name": "stdout",
     "output_type": "stream",
     "text": [
      "epoch: 1, train loss: 2.199758617345952, test loss: 2.0693298223823184, test accuracy: 0.36213991769547327\n",
      "epoch: 2, train loss: 1.904977226060284, test loss: 1.8945243517435137, test accuracy: 0.43415637860082307\n"
     ]
    },
    {
     "data": {
      "text/plain": [
       "[(1, 2.199758617345952, 2.0693298223823184, 0.36213991769547327),\n",
       " (2, 1.904977226060284, 1.8945243517435137, 0.43415637860082307)]"
      ]
     },
     "execution_count": 5,
     "metadata": {},
     "output_type": "execute_result"
    }
   ],
   "source": [
    "temp.process()"
   ]
  },
  {
   "cell_type": "code",
   "execution_count": 7,
   "id": "elect-bumper",
   "metadata": {},
   "outputs": [],
   "source": [
    "test = [(1, 2.199758617345952, 2.0693298223823184, 0.36213991769547327),\n",
    " (2, 1.904977226060284, 1.8945243517435137, 0.43415637860082307)]\n",
    "out = pd.DataFrame()\n",
    "out['epoch'] = [x[0] for x in test]\n",
    "out['train_ls'] = [x[1] for x in test]\n",
    "out['test_ls'] = [x[2] for x in test]\n",
    "out['test_acc'] = [x[3] for x in test]"
   ]
  },
  {
   "cell_type": "code",
   "execution_count": 8,
   "id": "processed-working",
   "metadata": {},
   "outputs": [
    {
     "data": {
      "text/html": [
       "<div>\n",
       "<style scoped>\n",
       "    .dataframe tbody tr th:only-of-type {\n",
       "        vertical-align: middle;\n",
       "    }\n",
       "\n",
       "    .dataframe tbody tr th {\n",
       "        vertical-align: top;\n",
       "    }\n",
       "\n",
       "    .dataframe thead th {\n",
       "        text-align: right;\n",
       "    }\n",
       "</style>\n",
       "<table border=\"1\" class=\"dataframe\">\n",
       "  <thead>\n",
       "    <tr style=\"text-align: right;\">\n",
       "      <th></th>\n",
       "      <th>epoch</th>\n",
       "      <th>train_ls</th>\n",
       "      <th>test_ls</th>\n",
       "      <th>test_acc</th>\n",
       "    </tr>\n",
       "  </thead>\n",
       "  <tbody>\n",
       "    <tr>\n",
       "      <th>0</th>\n",
       "      <td>1</td>\n",
       "      <td>2.199759</td>\n",
       "      <td>2.069330</td>\n",
       "      <td>0.362140</td>\n",
       "    </tr>\n",
       "    <tr>\n",
       "      <th>1</th>\n",
       "      <td>2</td>\n",
       "      <td>1.904977</td>\n",
       "      <td>1.894524</td>\n",
       "      <td>0.434156</td>\n",
       "    </tr>\n",
       "  </tbody>\n",
       "</table>\n",
       "</div>"
      ],
      "text/plain": [
       "   epoch  train_ls   test_ls  test_acc\n",
       "0      1  2.199759  2.069330  0.362140\n",
       "1      2  1.904977  1.894524  0.434156"
      ]
     },
     "execution_count": 8,
     "metadata": {},
     "output_type": "execute_result"
    }
   ],
   "source": [
    "out"
   ]
  },
  {
   "cell_type": "code",
   "execution_count": null,
   "id": "medium-batch",
   "metadata": {},
   "outputs": [],
   "source": [
    "    \n",
    "def main():\n",
    "    params_base = 'config/model_params/GCN_k_15/10/'\n",
    "    output_base = 'config/model_results/GCN_k_15/10/'\n",
    "    for obj in os.listdir(params_base):\n",
    "        temp_out = output_base + obj[:-5] + '.csv'\n",
    "        temp_in = params_base + obj\n",
    "        print(temp_out, temp_in)\n",
    "        with open(temp_in, 'r') as fp:\n",
    "            temp_dct = json.load(fp)\n",
    "        temp = run(temp_dct)\n",
    "        test = temp.process()\n",
    "        out = pd.DataFrame()\n",
    "        out['epoch'] = test[0]\n",
    "        out['train_ls'] = test[1]\n",
    "        out['test_ls'] = test[2]\n",
    "        out['test_acc'] = test[3]\n",
    "        out.to_csv(temp_out, index=False)\n",
    "\n",
    "if __name__ == '__main__':\n",
    "    main()"
   ]
  },
  {
   "cell_type": "code",
   "execution_count": 4,
   "id": "hungarian-extreme",
   "metadata": {},
   "outputs": [],
   "source": [
    "import json\n",
    "import pandas as pd\n",
    "import os\n",
    "lrs = [1e-3,5e-4]\n",
    "bss = [32, 64]\n",
    "ratios = [0.4, 0.6]\n",
    "pools = ['SAG', 'ASA']\n",
    "datas = ['10']\n",
    "\n",
    "i = 0\n",
    "params_base = 'config/model_params/GCN_k_15/10/GCN_k15_object'\n",
    "\n",
    "for lr in lrs:\n",
    "    for bs in bss:\n",
    "        for ratio in ratios:\n",
    "            for pool in pools:\n",
    "                for data in datas:\n",
    "                    temp = params_base + str(i) + '.json'\n",
    "                    i += 1\n",
    "                    sample ={\n",
    "                        'data': data,\n",
    "                        'base': 'data/modelnet/modelnet_graph_k15/',\n",
    "                        'model': 'GCN',\n",
    "                        'pool': pool,\n",
    "                        'ratio': ratio,\n",
    "                        'val_size': 0.2,\n",
    "                        'lr': lr,\n",
    "                        'epoch': 30,\n",
    "                        'bs': bs\n",
    "                    }\n",
    "                    with open(temp, 'w') as fp:\n",
    "                        json.dump(sample, fp)"
   ]
  },
  {
   "cell_type": "code",
   "execution_count": 5,
   "id": "intense-proposal",
   "metadata": {},
   "outputs": [],
   "source": [
    "test ={\n",
    "    'data': '40',\n",
    "    'base': 'data/modelnet/modelnet_graph_k15/',\n",
    "    'model': 'GCN',\n",
    "    'pool': 'ASA',\n",
    "    'ratio': 0.3,\n",
    "    'val_size': 0.2,\n",
    "    'lr': 1e-3,\n",
    "    'epoch': 1,\n",
    "    'bs': 32\n",
    "}\n",
    "with open('config/model_params/GCN_k_15/10/GCN_k15_object_test.json', 'w') as fp:\n",
    "    json.dump(test, fp)"
   ]
  },
  {
   "cell_type": "code",
   "execution_count": 28,
   "id": "expensive-islam",
   "metadata": {},
   "outputs": [],
   "source": [
    "import matplotlib.pyplot as plt\n",
    "import numpy as np\n",
    "import pandas as pd\n",
    "\n",
    "epoch = [x[0] for x in result]\n",
    "train_ls = [x[1] for x in result]\n",
    "test_ls = [x[2] for x in result]\n",
    "test_acc = [x[3] for x in result]"
   ]
  },
  {
   "cell_type": "code",
   "execution_count": 31,
   "id": "parliamentary-bench",
   "metadata": {},
   "outputs": [
    {
     "name": "stderr",
     "output_type": "stream",
     "text": [
      "No handles with labels found to put in legend.\n"
     ]
    },
    {
     "data": {
      "text/plain": [
       "<matplotlib.legend.Legend at 0x7f4d402d5a30>"
      ]
     },
     "execution_count": 31,
     "metadata": {},
     "output_type": "execute_result"
    },
    {
     "data": {
      "image/png": "[encoded data removed]",
      "text/plain": [
       "<Figure size 432x288 with 1 Axes>"
      ]
     },
     "metadata": {
      "needs_background": "light"
     },
     "output_type": "display_data"
    }
   ],
   "source": [
    "plt.plot(epoch, train_ls, test_ls)"
   ]
  },
  {
   "cell_type": "code",
   "execution_count": 32,
   "id": "thermal-surface",
   "metadata": {},
   "outputs": [
    {
     "data": {
      "text/plain": [
       "[<matplotlib.lines.Line2D at 0x7f4d401fce80>]"
      ]
     },
     "execution_count": 32,
     "metadata": {},
     "output_type": "execute_result"
    },
    {
     "data": {
      "image/png": "[encoded data removed]",
      "text/plain": [
       "<Figure size 432x288 with 1 Axes>"
      ]
     },
     "metadata": {
      "needs_background": "light"
     },
     "output_type": "display_data"
    }
   ],
   "source": [
    "plt.plot(epoch, test_acc)"
   ]
  },
  {
   "cell_type": "code",
   "execution_count": null,
   "id": "multiple-logistics",
   "metadata": {},
   "outputs": [],
   "source": []
  }
 ],
 "metadata": {
  "kernelspec": {
   "display_name": "Python 3",
   "language": "python",
   "name": "python3"
  },
  "language_info": {
   "codemirror_mode": {
    "name": "ipython",
    "version": 3
   },
   "file_extension": ".py",
   "mimetype": "text/x-python",
   "name": "python",
   "nbconvert_exporter": "python",
   "pygments_lexer": "ipython3",
   "version": "3.8.6"
  }
 },
 "nbformat": 4,
 "nbformat_minor": 5
}
