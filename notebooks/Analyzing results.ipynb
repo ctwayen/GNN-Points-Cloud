{
 "cells": [
  {
   "cell_type": "code",
   "execution_count": 7,
   "id": "multiple-airfare",
   "metadata": {},
   "outputs": [],
   "source": [
    "import sys\n",
    "sys.path.append(\"../\")\n",
    "import os\n",
    "import pandas as pd\n",
    "base = '../config/model_results/GCN_k_15/10/'"
   ]
  },
  {
   "cell_type": "code",
   "execution_count": 5,
   "id": "sudden-housing",
   "metadata": {},
   "outputs": [
    {
     "data": {
      "text/plain": [
       "['GCN_k15_object13.csv',\n",
       " 'GCN_k15_object2.csv',\n",
       " 'GCN_k15_object14.csv',\n",
       " 'GCN_k15_object5.csv',\n",
       " 'GCN_k15_object15.csv',\n",
       " 'GCN_k15_object4.csv',\n",
       " 'GCN_k15_object12.csv',\n",
       " 'GCN_k15_object3.csv',\n",
       " '.ipynb_checkpoints',\n",
       " 'GCN_k15_object9.csv',\n",
       " 'GCN_k15_object11.csv',\n",
       " 'GCN_k15_object0.csv',\n",
       " 'GCN_k15_object7.csv',\n",
       " 'GCN_k15_object_test.csv',\n",
       " 'GCN_k15_object6.csv',\n",
       " 'GCN_k15_object10.csv',\n",
       " 'GCN_k15_object1.csv',\n",
       " 'GCN_k15_object8.csv']"
      ]
     },
     "execution_count": 5,
     "metadata": {},
     "output_type": "execute_result"
    }
   ],
   "source": [
    "os.listdir(base)"
   ]
  },
  {
   "cell_type": "code",
   "execution_count": 10,
   "id": "conceptual-burlington",
   "metadata": {},
   "outputs": [
    {
     "data": {
      "text/html": [
       "<div>\n",
       "<style scoped>\n",
       "    .dataframe tbody tr th:only-of-type {\n",
       "        vertical-align: middle;\n",
       "    }\n",
       "\n",
       "    .dataframe tbody tr th {\n",
       "        vertical-align: top;\n",
       "    }\n",
       "\n",
       "    .dataframe thead th {\n",
       "        text-align: right;\n",
       "    }\n",
       "</style>\n",
       "<table border=\"1\" class=\"dataframe\">\n",
       "  <thead>\n",
       "    <tr style=\"text-align: right;\">\n",
       "      <th></th>\n",
       "      <th>epoch</th>\n",
       "      <th>train_ls</th>\n",
       "      <th>test_ls</th>\n",
       "      <th>test_acc</th>\n",
       "    </tr>\n",
       "  </thead>\n",
       "  <tbody>\n",
       "    <tr>\n",
       "      <th>0</th>\n",
       "      <td>1.000000</td>\n",
       "      <td>2.000000</td>\n",
       "      <td>3.000000</td>\n",
       "      <td>4.000000</td>\n",
       "    </tr>\n",
       "    <tr>\n",
       "      <th>1</th>\n",
       "      <td>2.246740</td>\n",
       "      <td>2.230962</td>\n",
       "      <td>2.209129</td>\n",
       "      <td>2.147114</td>\n",
       "    </tr>\n",
       "    <tr>\n",
       "      <th>2</th>\n",
       "      <td>2.237400</td>\n",
       "      <td>2.225262</td>\n",
       "      <td>2.192937</td>\n",
       "      <td>2.111873</td>\n",
       "    </tr>\n",
       "    <tr>\n",
       "      <th>3</th>\n",
       "      <td>0.169753</td>\n",
       "      <td>0.171811</td>\n",
       "      <td>0.265432</td>\n",
       "      <td>0.271605</td>\n",
       "    </tr>\n",
       "  </tbody>\n",
       "</table>\n",
       "</div>"
      ],
      "text/plain": [
       "      epoch  train_ls   test_ls  test_acc\n",
       "0  1.000000  2.000000  3.000000  4.000000\n",
       "1  2.246740  2.230962  2.209129  2.147114\n",
       "2  2.237400  2.225262  2.192937  2.111873\n",
       "3  0.169753  0.171811  0.265432  0.271605"
      ]
     },
     "execution_count": 10,
     "metadata": {},
     "output_type": "execute_result"
    }
   ],
   "source": [
    "pd.read_csv(base + \"GCN_k15_object5.csv\")"
   ]
  },
  {
   "cell_type": "code",
   "execution_count": null,
   "id": "retired-maker",
   "metadata": {},
   "outputs": [],
   "source": []
  }
 ],
 "metadata": {
  "kernelspec": {
   "display_name": "Python 3",
   "language": "python",
   "name": "python3"
  },
  "language_info": {
   "codemirror_mode": {
    "name": "ipython",
    "version": 3
   },
   "file_extension": ".py",
   "mimetype": "text/x-python",
   "name": "python",
   "nbconvert_exporter": "python",
   "pygments_lexer": "ipython3",
   "version": "3.8.6"
  }
 },
 "nbformat": 4,
 "nbformat_minor": 5
}
