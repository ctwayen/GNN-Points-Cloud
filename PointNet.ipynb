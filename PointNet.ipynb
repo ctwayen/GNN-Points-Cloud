{
 "cells": [
  {
   "cell_type": "code",
   "execution_count": 6,
   "id": "cathedral-leone",
   "metadata": {},
   "outputs": [],
   "source": [
    "import torch\n",
    "import torch.nn as nn\n",
    "import torch.nn.functional as F\n",
    "from torch_geometric.nn import GCNConv, TopKPooling, SAGPooling, ASAPooling, EdgePooling\n",
    "from torch_geometric.data import Data\n",
    "import os\n",
    "import h5py\n",
    "import torch.utils.data as data\n",
    "from sklearn import preprocessing\n",
    "import numpy as np\n",
    "from tqdm.notebook import tqdm\n",
    "base = 'data/modelnet/modelnet_graph_k15/'\n",
    "paths = []\n",
    "labels = []\n",
    "for obj in os.listdir(base):\n",
    "    temp = base + obj\n",
    "    for file in os.listdir(temp):\n",
    "        if obj in ['sofa', 'airplane', 'vase', 'chair', 'toilet', 'bookshelf', 'bed', 'monitor', 'piano', 'bottle']:\n",
    "            paths.append(temp+'/' + file)\n",
    "            labels.append(obj)"
   ]
  },
  {
   "cell_type": "code",
   "execution_count": null,
   "id": "boolean-pressing",
   "metadata": {},
   "outputs": [],
   "source": [
    "class GCN_PointNet(nn.Module):\n",
    "    def __init__(self):\n",
    "        super(GCN_PointNet, self).__init__()\n",
    "        self.input = nn.Sequential(\n",
    "            nn.Conv1d(3, 64, 1),\n",
    "            nn.BatchNorm1d(64),\n",
    "            nn.ReLU()\n",
    "        )\n",
    "        self.mlp_first = nn.Sequential(\n",
    "            nn.Conv1d(64, 64, 1),\n",
    "            nn.BatchNorm1d(64),\n",
    "            nn.ReLU()\n",
    "        )\n",
    "        self.mlp_second = nn.Sequential(\n",
    "            nn.Conv1d(64, 128, 1),\n",
    "            nn.BatchNorm1d(128),\n",
    "            nn.ReLU(),\n",
    "            nn.Conv1d(128, 200, 1),\n",
    "            nn.BatchNorm1d(200),\n",
    "            nn.ReLU()\n",
    "        )\n",
    "        self.mlp_third = nn.Sequential(\n",
    "            nn.Conv1d(200, 128, 1),\n",
    "            nn.ReLU(),\n",
    "            nn.Conv1d(128, 2, 1),\n",
    "            nn.ReLU()\n",
    "        )\n",
    "        self.pool1 = SAGPooling(in_channels=64, ratio=0.5)\n",
    "        self.pool2 = SAGPooling(in_channels=200, ratio=0.2)\n",
    "        \n",
    "        \n",
    "    def forward(self, x, edge_index, edge_attr):\n",
    "        x = torch.transpose(x, 1, 2)\n",
    "        #print(x.shape)\n",
    "        edge_index = edge_index.view(2, -1)\n",
    "        edge_attr = edge_attr.view(-1)\n",
    "        x = self.input(x)\n",
    "        x = self.mlp_first(x)\n",
    "        \n",
    "        #print(x.shape)\n",
    "        x = torch.transpose(x, 1, 2)\n",
    "        x = x.view(1000, 64)\n",
    "        temp = self.pool1(x, edge_index, edge_attr)\n",
    "        x, edge_index, edge_attr = temp[0], temp[1], temp[2]\n",
    "        x = x.view(1, 500, 64)\n",
    "        x = torch.transpose(x, 1, 2)\n",
    "        \n",
    "        #print(x.shape)\n",
    "        x = self.mlp_second(x)\n",
    "        \n",
    "        #print(x.shape)\n",
    "        x = torch.transpose(x, 1, 2)\n",
    "        x = x.view(500, 200)\n",
    "        temp = self.pool2(x, edge_index, edge_attr)\n",
    "        x, edge_index, edge_attr = temp[0], temp[1], temp[2]\n",
    "        x = x.view(1, 100, 200)\n",
    "        x = torch.transpose(x, 1, 2)\n",
    "        \n",
    "        #print(x.shape)\n",
    "        x = F.max_pool1d(x, 100)\n",
    "        #print(x.shape)\n",
    "        x = self.mlp_third(x)\n",
    "        #print(x.shape)\n",
    "        x = x.squeeze(2)\n",
    "        #print(x.shape)\n",
    "        return F.log_softmax(x, dim=1)"
   ]
  },
  {
   "cell_type": "code",
   "execution_count": 7,
   "id": "healthy-radio",
   "metadata": {},
   "outputs": [],
   "source": [
    "class Pointdata(data.Dataset):\n",
    "    def __init__(self, paths, labels):\n",
    "        self.paths = paths\n",
    "        le = preprocessing.LabelEncoder()\n",
    "        self.labels = le.fit_transform(labels)\n",
    "    def __getitem__(self, index):\n",
    "        f = h5py.File(self.paths[index], 'r')\n",
    "        nodes = f['nodes'][:]\n",
    "        x = torch.tensor(nodes, dtype=torch.float)\n",
    "        f.close()\n",
    "        y = torch.from_numpy(np.array(self.labels[index]))\n",
    "        return x, y\n",
    "    \n",
    "    def __len__(self):\n",
    "        return len(self.paths)"
   ]
  },
  {
   "cell_type": "code",
   "execution_count": 8,
   "id": "acute-enforcement",
   "metadata": {},
   "outputs": [],
   "source": [
    "dataset = Pointdata(paths, labels)\n",
    "train_dataset, test_dataset = torch.utils.data.random_split(dataset, [4000, 862])"
   ]
  },
  {
   "cell_type": "code",
   "execution_count": 9,
   "id": "worldwide-dispute",
   "metadata": {},
   "outputs": [],
   "source": [
    "class PointNet(nn.Module):\n",
    "    def __init__(self):\n",
    "        super(PointNet, self).__init__()\n",
    "        self.input = nn.Sequential(\n",
    "            nn.Conv1d(3, 64, 1),\n",
    "            nn.BatchNorm1d(64),\n",
    "            nn.ReLU()\n",
    "        )\n",
    "        self.mlp_first = nn.Sequential(\n",
    "            nn.Conv1d(64, 64, 1),\n",
    "            nn.BatchNorm1d(64),\n",
    "            nn.ReLU()\n",
    "        )\n",
    "        self.mlp_second = nn.Sequential(\n",
    "            nn.Conv1d(64, 128, 1),\n",
    "            nn.BatchNorm1d(128),\n",
    "            nn.ReLU(),\n",
    "            nn.Conv1d(128, 200, 1),\n",
    "            nn.BatchNorm1d(200),\n",
    "            nn.ReLU()\n",
    "        )\n",
    "        self.mlp_third = nn.Sequential(\n",
    "            nn.Conv1d(200, 128, 1),\n",
    "            nn.ReLU(),\n",
    "            nn.Conv1d(128, 10, 1),\n",
    "            nn.ReLU()\n",
    "        )\n",
    "        \n",
    "        \n",
    "    def forward(self, x):\n",
    "        x = torch.transpose(x, 1, 2)\n",
    "        #print(x.shape)\n",
    "        x = self.input(x)\n",
    "        x = self.mlp_first(x)\n",
    "        #print(x.shape)\n",
    "        x = self.mlp_second(x) \n",
    "        #print(x.shape)\n",
    "        x = F.max_pool1d(x, 1000)\n",
    "        #print(x.shape)\n",
    "        x = self.mlp_third(x)\n",
    "        #print(x.shape)\n",
    "        x = x.squeeze(2)\n",
    "        #print(x.shape)\n",
    "        return F.log_softmax(x, dim=1)"
   ]
  },
  {
   "cell_type": "code",
   "execution_count": 17,
   "id": "directed-columbus",
   "metadata": {},
   "outputs": [],
   "source": [
    "class Trainer():\n",
    "    \n",
    "    def __init__(self,model,train_set,test_set,opts):\n",
    "        self.model = model  # neural net\n",
    "        \n",
    "        # device agnostic code snippet\n",
    "        self.device = torch.device(\"cuda:0\" if torch.cuda.is_available() else \"cpu\")\n",
    "        self.model.to(self.device)\n",
    "        \n",
    "        self.epochs = opts['epochs']\n",
    "        print(model)\n",
    "        self.optimizer = torch.optim.Adam(model.parameters(), opts['lr']) # optimizer method for gradient descent\n",
    "        self.criterion = torch.nn.CrossEntropyLoss()                      # loss function\n",
    "        self.train_loader = torch.utils.data.DataLoader(dataset=train_set,\n",
    "                                                        batch_size=opts['batch_size'],\n",
    "                                                        shuffle=True)\n",
    "        self.test_loader = torch.utils.data.DataLoader(dataset=test_set,\n",
    "                                                       batch_size=opts['batch_size'],\n",
    "                                                       shuffle=True)\n",
    "        self.stats = []\n",
    "        \n",
    "    def train(self):\n",
    "        self.model.train() #put model in training mode\n",
    "        for epoch in range(self.epochs):\n",
    "            self.tr_loss = []\n",
    "            for i, (x, labels) in tqdm(enumerate(self.train_loader),\n",
    "                                                   total = len(self.train_loader)):\n",
    "                x, labels = x.to(self.device), labels.to(self.device)\n",
    "                self.optimizer.zero_grad()\n",
    "                #print(labels)\n",
    "                outputs = self.model(x)  \n",
    "                loss = self.criterion(outputs, labels) \n",
    "                loss.backward()                        \n",
    "                self.optimizer.step()                  \n",
    "                self.tr_loss.append(loss.item())       \n",
    "            \n",
    "            self.test(epoch) # run through the validation set\n",
    "        \n",
    "    def test(self,epoch):\n",
    "            \n",
    "            self.model.eval()    # puts model in eval mode - not necessary for this demo but good to know\n",
    "            self.test_loss = []\n",
    "            self.test_accuracy = []\n",
    "            \n",
    "            for i, (x, labels) in enumerate(self.test_loader):\n",
    "                \n",
    "                x, labels = x.to(self.device), labels.to(self.device)\n",
    "                # pass data through network\n",
    "                # turn off gradient calculation to speed up calcs and reduce memory\n",
    "                with torch.no_grad():\n",
    "                    outputs = self.model(x)\n",
    "                \n",
    "                # make our predictions and update our loss info\n",
    "                _, predicted = torch.max(outputs.data, 1)\n",
    "                loss = self.criterion(outputs, labels)\n",
    "                self.test_loss.append(loss.item())\n",
    "                \n",
    "                self.test_accuracy.append((predicted == labels).sum().item() / predicted.size(0))\n",
    "            \n",
    "            print('epoch: {}, train loss: {}, test loss: {}, test accuracy: {}'.format( \n",
    "                  epoch+1, np.mean(self.tr_loss), np.mean(self.test_loss), np.mean(self.test_accuracy)))\n",
    "            self.stats.append((epoch+1, np.mean(self.tr_loss), np.mean(self.test_loss), np.mean(self.test_accuracy)))\n",
    "            \n",
    "    def get_stats(self):\n",
    "        return self.stats"
   ]
  },
  {
   "cell_type": "code",
   "execution_count": 19,
   "id": "lesser-honduras",
   "metadata": {},
   "outputs": [
    {
     "name": "stdout",
     "output_type": "stream",
     "text": [
      "PointNet(\n",
      "  (input): Sequential(\n",
      "    (0): Conv1d(3, 64, kernel_size=(1,), stride=(1,))\n",
      "    (1): BatchNorm1d(64, eps=1e-05, momentum=0.1, affine=True, track_running_stats=True)\n",
      "    (2): ReLU()\n",
      "  )\n",
      "  (mlp_first): Sequential(\n",
      "    (0): Conv1d(64, 64, kernel_size=(1,), stride=(1,))\n",
      "    (1): BatchNorm1d(64, eps=1e-05, momentum=0.1, affine=True, track_running_stats=True)\n",
      "    (2): ReLU()\n",
      "  )\n",
      "  (mlp_second): Sequential(\n",
      "    (0): Conv1d(64, 128, kernel_size=(1,), stride=(1,))\n",
      "    (1): BatchNorm1d(128, eps=1e-05, momentum=0.1, affine=True, track_running_stats=True)\n",
      "    (2): ReLU()\n",
      "    (3): Conv1d(128, 200, kernel_size=(1,), stride=(1,))\n",
      "    (4): BatchNorm1d(200, eps=1e-05, momentum=0.1, affine=True, track_running_stats=True)\n",
      "    (5): ReLU()\n",
      "  )\n",
      "  (mlp_third): Sequential(\n",
      "    (0): Conv1d(200, 128, kernel_size=(1,), stride=(1,))\n",
      "    (1): ReLU()\n",
      "    (2): Conv1d(128, 10, kernel_size=(1,), stride=(1,))\n",
      "    (3): ReLU()\n",
      "  )\n",
      ")\n"
     ]
    },
    {
     "data": {
      "application/vnd.jupyter.widget-view+json": {
       "model_id": "7643ac05d0c64939a80310d07d466f1c",
       "version_major": 2,
       "version_minor": 0
      },
      "text/plain": [
       "  0%|          | 0/63 [00:00<?, ?it/s]"
      ]
     },
     "metadata": {},
     "output_type": "display_data"
    },
    {
     "name": "stdout",
     "output_type": "stream",
     "text": [
      "epoch: 1, train loss: 1.5698782565101745, test loss: 1.3624337485858373, test accuracy: 0.5066964285714286\n"
     ]
    },
    {
     "data": {
      "application/vnd.jupyter.widget-view+json": {
       "model_id": "8efab62a7f4e42029a9c7864e52691e8",
       "version_major": 2,
       "version_minor": 0
      },
      "text/plain": [
       "  0%|          | 0/63 [00:00<?, ?it/s]"
      ]
     },
     "metadata": {},
     "output_type": "display_data"
    },
    {
     "name": "stdout",
     "output_type": "stream",
     "text": [
      "epoch: 2, train loss: 1.2827039247467404, test loss: 1.252242807831083, test accuracy: 0.5120535714285714\n"
     ]
    },
    {
     "data": {
      "application/vnd.jupyter.widget-view+json": {
       "model_id": "45f72a90de624b8ea03729a322082191",
       "version_major": 2,
       "version_minor": 0
      },
      "text/plain": [
       "  0%|          | 0/63 [00:00<?, ?it/s]"
      ]
     },
     "metadata": {},
     "output_type": "display_data"
    },
    {
     "name": "stdout",
     "output_type": "stream",
     "text": [
      "epoch: 3, train loss: 1.2189352966490246, test loss: 1.2595148171697343, test accuracy: 0.5138392857142857\n"
     ]
    },
    {
     "data": {
      "application/vnd.jupyter.widget-view+json": {
       "model_id": "c5e3631c5824409ca3a7670bd2a89b01",
       "version_major": 2,
       "version_minor": 0
      },
      "text/plain": [
       "  0%|          | 0/63 [00:00<?, ?it/s]"
      ]
     },
     "metadata": {},
     "output_type": "display_data"
    },
    {
     "name": "stdout",
     "output_type": "stream",
     "text": [
      "epoch: 4, train loss: 1.2207353607056632, test loss: 1.3166284220559257, test accuracy: 0.5034970238095238\n"
     ]
    },
    {
     "data": {
      "application/vnd.jupyter.widget-view+json": {
       "model_id": "1458eee682644637b70d6be784561acc",
       "version_major": 2,
       "version_minor": 0
      },
      "text/plain": [
       "  0%|          | 0/63 [00:00<?, ?it/s]"
      ]
     },
     "metadata": {},
     "output_type": "display_data"
    },
    {
     "name": "stdout",
     "output_type": "stream",
     "text": [
      "epoch: 5, train loss: 1.2429219181575473, test loss: 1.2760639658996038, test accuracy: 0.5163690476190477\n"
     ]
    },
    {
     "data": {
      "application/vnd.jupyter.widget-view+json": {
       "model_id": "a686ec8a469a4aa69d94360764b05547",
       "version_major": 2,
       "version_minor": 0
      },
      "text/plain": [
       "  0%|          | 0/63 [00:00<?, ?it/s]"
      ]
     },
     "metadata": {},
     "output_type": "display_data"
    },
    {
     "name": "stdout",
     "output_type": "stream",
     "text": [
      "epoch: 6, train loss: 1.2118067741394043, test loss: 1.2320858708449773, test accuracy: 0.5116071428571428\n"
     ]
    },
    {
     "data": {
      "application/vnd.jupyter.widget-view+json": {
       "model_id": "62c6c2b8b5534f53a0ea722906ebf67f",
       "version_major": 2,
       "version_minor": 0
      },
      "text/plain": [
       "  0%|          | 0/63 [00:00<?, ?it/s]"
      ]
     },
     "metadata": {},
     "output_type": "display_data"
    },
    {
     "name": "stdout",
     "output_type": "stream",
     "text": [
      "epoch: 7, train loss: 1.1782183032187203, test loss: 1.2427643963268824, test accuracy: 0.5036458333333333\n"
     ]
    },
    {
     "data": {
      "application/vnd.jupyter.widget-view+json": {
       "model_id": "46bfb3723f6d40ec85a46923c4dad893",
       "version_major": 2,
       "version_minor": 0
      },
      "text/plain": [
       "  0%|          | 0/63 [00:00<?, ?it/s]"
      ]
     },
     "metadata": {},
     "output_type": "display_data"
    },
    {
     "name": "stdout",
     "output_type": "stream",
     "text": [
      "epoch: 8, train loss: 1.1926078427405584, test loss: 1.2484547580991472, test accuracy: 0.5055803571428571\n"
     ]
    },
    {
     "data": {
      "application/vnd.jupyter.widget-view+json": {
       "model_id": "05c78c4a5d9a4d6d85f02cee142ef9ac",
       "version_major": 2,
       "version_minor": 0
      },
      "text/plain": [
       "  0%|          | 0/63 [00:00<?, ?it/s]"
      ]
     },
     "metadata": {},
     "output_type": "display_data"
    },
    {
     "name": "stdout",
     "output_type": "stream",
     "text": [
      "epoch: 9, train loss: 1.1896999970314994, test loss: 1.2331492134502955, test accuracy: 0.5092261904761904\n"
     ]
    },
    {
     "data": {
      "application/vnd.jupyter.widget-view+json": {
       "model_id": "68d85b3048a246fd969a4dd477f8d5e4",
       "version_major": 2,
       "version_minor": 0
      },
      "text/plain": [
       "  0%|          | 0/63 [00:00<?, ?it/s]"
      ]
     },
     "metadata": {},
     "output_type": "display_data"
    },
    {
     "name": "stdout",
     "output_type": "stream",
     "text": [
      "epoch: 10, train loss: 1.1711873677041795, test loss: 1.2367941907473974, test accuracy: 0.5057291666666667\n"
     ]
    },
    {
     "data": {
      "application/vnd.jupyter.widget-view+json": {
       "model_id": "dd3ebce19d8b44d48db8300f26610308",
       "version_major": 2,
       "version_minor": 0
      },
      "text/plain": [
       "  0%|          | 0/63 [00:00<?, ?it/s]"
      ]
     },
     "metadata": {},
     "output_type": "display_data"
    },
    {
     "name": "stdout",
     "output_type": "stream",
     "text": [
      "epoch: 11, train loss: 1.16390593846639, test loss: 1.230518353836877, test accuracy: 0.5072916666666666\n"
     ]
    },
    {
     "data": {
      "application/vnd.jupyter.widget-view+json": {
       "model_id": "db4db820aecf406ab4390b03c1bdccc8",
       "version_major": 2,
       "version_minor": 0
      },
      "text/plain": [
       "  0%|          | 0/63 [00:00<?, ?it/s]"
      ]
     },
     "metadata": {},
     "output_type": "display_data"
    },
    {
     "name": "stdout",
     "output_type": "stream",
     "text": [
      "epoch: 12, train loss: 1.1669971630686806, test loss: 1.241596234696252, test accuracy: 0.5038690476190476\n"
     ]
    },
    {
     "data": {
      "application/vnd.jupyter.widget-view+json": {
       "model_id": "5fbb3ce8b70147a5a5fa20ec6638cfe3",
       "version_major": 2,
       "version_minor": 0
      },
      "text/plain": [
       "  0%|          | 0/63 [00:00<?, ?it/s]"
      ]
     },
     "metadata": {},
     "output_type": "display_data"
    },
    {
     "name": "stdout",
     "output_type": "stream",
     "text": [
      "epoch: 13, train loss: 1.1590734162027874, test loss: 1.2248926162719727, test accuracy: 0.5054315476190476\n"
     ]
    },
    {
     "data": {
      "application/vnd.jupyter.widget-view+json": {
       "model_id": "567f6d8ae537435c9642ffe202df39ae",
       "version_major": 2,
       "version_minor": 0
      },
      "text/plain": [
       "  0%|          | 0/63 [00:00<?, ?it/s]"
      ]
     },
     "metadata": {},
     "output_type": "display_data"
    },
    {
     "name": "stdout",
     "output_type": "stream",
     "text": [
      "epoch: 14, train loss: 1.1861665759767805, test loss: 1.223406936441149, test accuracy: 0.5046130952380953\n"
     ]
    },
    {
     "data": {
      "application/vnd.jupyter.widget-view+json": {
       "model_id": "66e743731ded4bcf93095e0dbf1a5c91",
       "version_major": 2,
       "version_minor": 0
      },
      "text/plain": [
       "  0%|          | 0/63 [00:00<?, ?it/s]"
      ]
     },
     "metadata": {},
     "output_type": "display_data"
    },
    {
     "name": "stdout",
     "output_type": "stream",
     "text": [
      "epoch: 15, train loss: 1.1542176925946797, test loss: 1.2564869267599923, test accuracy: 0.49575892857142856\n"
     ]
    },
    {
     "data": {
      "application/vnd.jupyter.widget-view+json": {
       "model_id": "7c2ae87570524569a2c52fb9aa4836a6",
       "version_major": 2,
       "version_minor": 0
      },
      "text/plain": [
       "  0%|          | 0/63 [00:00<?, ?it/s]"
      ]
     },
     "metadata": {},
     "output_type": "display_data"
    },
    {
     "name": "stdout",
     "output_type": "stream",
     "text": [
      "epoch: 16, train loss: 1.1571098935036432, test loss: 1.2513891117913383, test accuracy: 0.5078125\n"
     ]
    },
    {
     "data": {
      "application/vnd.jupyter.widget-view+json": {
       "model_id": "cef14470c80a4491a8f3f9e4aa9afd84",
       "version_major": 2,
       "version_minor": 0
      },
      "text/plain": [
       "  0%|          | 0/63 [00:00<?, ?it/s]"
      ]
     },
     "metadata": {},
     "output_type": "display_data"
    },
    {
     "name": "stdout",
     "output_type": "stream",
     "text": [
      "epoch: 17, train loss: 1.1556980959952823, test loss: 1.3018066712788172, test accuracy: 0.4920386904761905\n"
     ]
    },
    {
     "data": {
      "application/vnd.jupyter.widget-view+json": {
       "model_id": "63454fecb1b54cacbaa5ee579b26c7ca",
       "version_major": 2,
       "version_minor": 0
      },
      "text/plain": [
       "  0%|          | 0/63 [00:00<?, ?it/s]"
      ]
     },
     "metadata": {},
     "output_type": "display_data"
    },
    {
     "name": "stdout",
     "output_type": "stream",
     "text": [
      "epoch: 18, train loss: 1.1653455609367007, test loss: 1.2447195862020766, test accuracy: 0.4991815476190476\n"
     ]
    },
    {
     "data": {
      "application/vnd.jupyter.widget-view+json": {
       "model_id": "795cf0c3a1c94477b7ee54322cabc955",
       "version_major": 2,
       "version_minor": 0
      },
      "text/plain": [
       "  0%|          | 0/63 [00:00<?, ?it/s]"
      ]
     },
     "metadata": {},
     "output_type": "display_data"
    },
    {
     "name": "stdout",
     "output_type": "stream",
     "text": [
      "epoch: 19, train loss: 1.1606741273213947, test loss: 1.2828941345214844, test accuracy: 0.4864583333333333\n"
     ]
    },
    {
     "data": {
      "application/vnd.jupyter.widget-view+json": {
       "model_id": "6a12f6c45fb24c0ca03e479a77a008d6",
       "version_major": 2,
       "version_minor": 0
      },
      "text/plain": [
       "  0%|          | 0/63 [00:00<?, ?it/s]"
      ]
     },
     "metadata": {},
     "output_type": "display_data"
    },
    {
     "name": "stdout",
     "output_type": "stream",
     "text": [
      "epoch: 20, train loss: 1.1681610904042683, test loss: 1.2254379561969213, test accuracy: 0.5078125\n"
     ]
    }
   ],
   "source": [
    "model = PointNet()\n",
    "opts = {\n",
    "    'lr': 1e-3,\n",
    "    'epochs': 20,\n",
    "    'batch_size': 64\n",
    "}\n",
    "\n",
    "Train = Trainer(model = model,\n",
    "                      train_set = train_dataset,\n",
    "                      test_set = test_dataset,opts = opts)\n",
    "\n",
    "Train.train()"
   ]
  },
  {
   "cell_type": "code",
   "execution_count": 20,
   "id": "critical-justice",
   "metadata": {},
   "outputs": [],
   "source": [
    "result = Train.get_stats()\n",
    "import matplotlib.pyplot as plt\n",
    "import numpy as np\n",
    "import pandas as pd\n",
    "\n",
    "epoch = [x[0] for x in result]\n",
    "train_ls = [x[1] for x in result]\n",
    "test_ls = [x[2] for x in result]\n",
    "test_acc = [x[3] for x in result]"
   ]
  },
  {
   "cell_type": "code",
   "execution_count": 21,
   "id": "scheduled-athens",
   "metadata": {},
   "outputs": [
    {
     "data": {
      "text/plain": [
       "[<matplotlib.lines.Line2D at 0x7f4a2ce70a00>,\n",
       " <matplotlib.lines.Line2D at 0x7f4a2ce70a30>]"
      ]
     },
     "execution_count": 21,
     "metadata": {},
     "output_type": "execute_result"
    },
    {
     "data": {
      "image/png": "[encoded data removed]",
      "text/plain": [
       "<Figure size 432x288 with 1 Axes>"
      ]
     },
     "metadata": {
      "needs_background": "light"
     },
     "output_type": "display_data"
    }
   ],
   "source": [
    "plt.plot(epoch, train_ls, test_ls)"
   ]
  },
  {
   "cell_type": "code",
   "execution_count": 22,
   "id": "understood-column",
   "metadata": {},
   "outputs": [
    {
     "data": {
      "text/plain": [
       "[<matplotlib.lines.Line2D at 0x7f4a2ce4a250>]"
      ]
     },
     "execution_count": 22,
     "metadata": {},
     "output_type": "execute_result"
    },
    {
     "data": {
      "image/png": "[encoded data removed]",
      "text/plain": [
       "<Figure size 432x288 with 1 Axes>"
      ]
     },
     "metadata": {
      "needs_background": "light"
     },
     "output_type": "display_data"
    }
   ],
   "source": [
    "plt.plot(epoch, test_acc)"
   ]
  },
  {
   "cell_type": "code",
   "execution_count": null,
   "id": "timely-compiler",
   "metadata": {},
   "outputs": [],
   "source": []
  }
 ],
 "metadata": {
  "kernelspec": {
   "display_name": "Python 3",
   "language": "python",
   "name": "python3"
  },
  "language_info": {
   "codemirror_mode": {
    "name": "ipython",
    "version": 3
   },
   "file_extension": ".py",
   "mimetype": "text/x-python",
   "name": "python",
   "nbconvert_exporter": "python",
   "pygments_lexer": "ipython3",
   "version": "3.8.6"
  }
 },
 "nbformat": 4,
 "nbformat_minor": 5
}
